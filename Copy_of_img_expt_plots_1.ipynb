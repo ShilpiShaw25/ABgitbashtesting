{
  "nbformat": 4,
  "nbformat_minor": 0,
  "metadata": {
    "colab": {
      "private_outputs": true,
      "provenance": [],
      "include_colab_link": true
    },
    "kernelspec": {
      "name": "python3",
      "display_name": "Python 3"
    },
    "language_info": {
      "name": "python"
    }
  },
  "cells": [
    {
      "cell_type": "markdown",
      "metadata": {
        "id": "view-in-github",
        "colab_type": "text"
      },
      "source": [
        "<a href=\"https://colab.research.google.com/github/ShilpiShaw25/ABgitbashtesting/blob/master/Copy_of_img_expt_plots_1.ipynb\" target=\"_parent\"><img src=\"https://colab.research.google.com/assets/colab-badge.svg\" alt=\"Open In Colab\"/></a>"
      ]
    },
    {
      "cell_type": "markdown",
      "source": [
        "## Import modules"
      ],
      "metadata": {
        "id": "cqEQZsxePcVL"
      }
    },
    {
      "cell_type": "code",
      "execution_count": null,
      "metadata": {
        "id": "QR_y-s8eOxWp"
      },
      "outputs": [],
      "source": [
        "import matplotlib.pyplot as plt\n",
        "import numpy as np"
      ]
    },
    {
      "cell_type": "markdown",
      "source": [
        "## Create a Plot with Results\n",
        "This helps understand the results visually in one view"
      ],
      "metadata": {
        "id": "dixh0KfLPzao"
      }
    },
    {
      "cell_type": "code",
      "source": [
        "learning_rate = [0.1, 0.01, 0.005, 0.001, 0.0005, 0.0001, 0.00001]\n",
        "# Epoch = 20, different learning rates\n",
        "y1 = [45, 56, 78, 81, 64, 51, 45]\n",
        "\n",
        "# plotting the line 1 points\n",
        "plt.plot(learning_rate, y1, label = \"Epochs = 20\")\n",
        "# Epoch = 20, line 2 points\n",
        "y2 = [50, 61, 75, 80, 60, 55, 40]\n",
        "# Set the x-axis scale to be log\n",
        "plt.xscale('log')\n",
        "# plotting the line 2 points\n",
        "plt.plot(learning_rate, y2, label = \"Epochs = 40\")\n",
        "plt.xlabel('Learning Rate')\n",
        "# Set the y axis label of the current axis.\n",
        "plt.ylabel('Accuracy')\n",
        "# Set a title of the current axes.\n",
        "plt.title('Performance with different learning rate and epochs ')\n",
        "# show a legend on the plot\n",
        "# This shows which line belongs to which plot\n",
        "# Note that the legend displays whatever we entered as label,\n",
        "# when specifying plt.plot arguments above\n",
        "plt.legend()\n",
        "# Display a figure.\n",
        "plt.show()"
      ],
      "metadata": {
        "id": "YWYlmLVnP4Un"
      },
      "execution_count": null,
      "outputs": []
    },
    {
      "cell_type": "code",
      "source": [],
      "metadata": {
        "id": "-pcQCozDguy1"
      },
      "execution_count": null,
      "outputs": []
    }
  ]
}